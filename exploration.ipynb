{
 "cells": [
  {
   "cell_type": "code",
   "execution_count": 159,
   "metadata": {},
   "outputs": [
    {
     "name": "stdout",
     "output_type": "stream",
     "text": [
      "The autoreload extension is already loaded. To reload it, use:\n",
      "  %reload_ext autoreload\n"
     ]
    }
   ],
   "source": [
    "import pandas as pd\n",
    "import numpy as np\n",
    "import matplotlib.pyplot as plt\n",
    "import seaborn as sns\n",
    "import os\n",
    "import preprocessing\n",
    "import json\n",
    "import datetime\n",
    "import dateutil\n",
    "import scipy.stats\n",
    "import pandas as pd\n",
    "import yfinance as yf\n",
    "from yahoofinancials import YahooFinancials\n",
    "\n",
    "from article import Article\n",
    "\n",
    "%load_ext autoreload\n",
    "%autoreload 2"
   ]
  },
  {
   "cell_type": "markdown",
   "metadata": {},
   "source": [
    "## Preparing the data for Bert"
   ]
  },
  {
   "cell_type": "code",
   "execution_count": 160,
   "metadata": {
    "pycharm": {
     "name": "#%%\n"
    }
   },
   "outputs": [
    {
     "name": "stdout",
     "output_type": "stream",
     "text": [
      "\n",
      "1 Failed download:\n",
      "- BRK.B: No data found, symbol may be delisted\n",
      "\n",
      "1 Failed download:\n",
      "- BF.B: No data found for this date range, symbol may be delisted\n"
     ]
    }
   ],
   "source": [
    "snp = yf.download('SNP',\n",
    "                      start='2020-01-01',\n",
    "                      end='2021-01-05',\n",
    "                      progress=False)\n",
    "snp['Delta'] = -snp['Adj Close'].diff(-2) / (snp['Adj Close'])\n",
    "\n",
    "table = pd.read_html('https://en.wikipedia.org/wiki/List_of_S%26P_500_companies')\n",
    "df = table[0]\n",
    "symbols = df['Symbol'].to_numpy()\n",
    "symbols\n",
    "deltas = []\n",
    "for stock in symbols:\n",
    "    returns = yf.download(stock,\n",
    "                      start='2020-01-01',\n",
    "                      end='2021-01-05',\n",
    "                      progress=False)\n",
    "    if returns[returns.isna().any(axis=1)].shape[0] > 0:\n",
    "        print('NA at: ' + stock)\n",
    "    returns['Delta'] = (-returns['Adj Close'].diff(-2) / returns['Adj Close']) - snp['Delta']\n",
    "    if returns[returns['Delta'] == -np.inf].shape[0] > 0:\n",
    "        print('-inf found at: ' + stock)\n",
    "    deltas.append(returns['Delta'].values[:-1])\n",
    "all_deltas = np.array([item for sublist in deltas for item in sublist])\n"
   ]
  },
  {
   "cell_type": "code",
   "execution_count": 161,
   "metadata": {
    "pycharm": {
     "name": "#%%\n"
    }
   },
   "outputs": [
    {
     "data": {
      "image/png": "[encoded data removed]",
      "text/plain": [
       "<Figure size 432x288 with 1 Axes>"
      ]
     },
     "metadata": {
      "needs_background": "light"
     },
     "output_type": "display_data"
    }
   ],
   "source": [
    "plt.hist(all_deltas, bins=100)\n",
    "all_deltas = np.nan_to_num(all_deltas)"
   ]
  },
  {
   "cell_type": "code",
   "execution_count": 173,
   "metadata": {},
   "outputs": [
    {
     "data": {
      "image/png": "[encoded data removed]",
      "text/plain": [
       "<Figure size 360x360 with 1 Axes>"
      ]
     },
     "metadata": {
      "needs_background": "light"
     },
     "output_type": "display_data"
    }
   ],
   "source": [
    "sns.displot(all_deltas, bins=100)\n",
    "plt.grid()\n",
    "plt.xlabel('corrected relative returns')\n",
    "plt.savefig('plots/returns_dist.png')\n",
    "plt.show()\n"
   ]
  },
  {
   "cell_type": "code",
   "execution_count": 194,
   "metadata": {
    "pycharm": {
     "name": "#%%\n"
    }
   },
   "outputs": [
    {
     "data": {
      "text/plain": [
       "DescribeResult(nobs=127861, minmax=(-0.5213978492917866, 0.6808071553099578), mean=0.002936975741777077, variance=0.002141514687782241, skewness=-0.06296098673018366, kurtosis=7.591148694343385)"
      ]
     },
     "execution_count": 194,
     "metadata": {},
     "output_type": "execute_result"
    }
   ],
   "source": [
    "scipy.stats.describe(all_deltas)"
   ]
  },
  {
   "cell_type": "code",
   "execution_count": 195,
   "metadata": {
    "pycharm": {
     "name": "#%%\n"
    }
   },
   "outputs": [
    {
     "data": {
      "text/plain": [
       "0.03226775858667886"
      ]
     },
     "execution_count": 195,
     "metadata": {},
     "output_type": "execute_result"
    }
   ],
   "source": [
    "np.mean(np.abs(all_deltas))\n"
   ]
  },
  {
   "cell_type": "code",
   "execution_count": 174,
   "metadata": {
    "pycharm": {
     "name": "#%%\n"
    }
   },
   "outputs": [
    {
     "name": "stdout",
     "output_type": "stream",
     "text": [
      "\n",
      "1 Failed download:\n",
      "- BF.B: No data found for this date range, symbol may be delisted\n",
      "\n",
      "1 Failed download:\n",
      "- BRK.B: No data found, symbol may be delisted\n",
      "Train DF of size 4954\n",
      "oldest article: 2020-01-14\n",
      "save DF to: /Users/marcglettig/MA5/Machinelearning_for_finance/Fin-418-NLFF/data/tabular_data/data_.tsv\n"
     ]
    }
   ],
   "source": [
    "data_df = preprocessing.format_to_bert()"
   ]
  },
  {
   "cell_type": "code",
   "execution_count": 175,
   "metadata": {
    "pycharm": {
     "name": "#%%\n"
    }
   },
   "outputs": [
    {
     "data": {
      "text/html": [
       "<div>\n",
       "<style scoped>\n",
       "    .dataframe tbody tr th:only-of-type {\n",
       "        vertical-align: middle;\n",
       "    }\n",
       "\n",
       "    .dataframe tbody tr th {\n",
       "        vertical-align: top;\n",
       "    }\n",
       "\n",
       "    .dataframe thead th {\n",
       "        text-align: right;\n",
       "    }\n",
       "</style>\n",
       "<table border=\"1\" class=\"dataframe\">\n",
       "  <thead>\n",
       "    <tr style=\"text-align: right;\">\n",
       "      <th></th>\n",
       "      <th>text</th>\n",
       "      <th>label</th>\n",
       "      <th>date</th>\n",
       "    </tr>\n",
       "  </thead>\n",
       "  <tbody>\n",
       "    <tr>\n",
       "      <th>0</th>\n",
       "      <td>cintas earns 2021 military friendly and milita...</td>\n",
       "      <td>decrease</td>\n",
       "      <td>2020-11-09</td>\n",
       "    </tr>\n",
       "    <tr>\n",
       "      <th>1</th>\n",
       "      <td>cintas announces evs technician winners for na...</td>\n",
       "      <td>not relevant</td>\n",
       "      <td>2020-09-29</td>\n",
       "    </tr>\n",
       "    <tr>\n",
       "      <th>2</th>\n",
       "      <td>cintas celebrates 2020 custodian of the year w...</td>\n",
       "      <td>not relevant</td>\n",
       "      <td>2020-09-30</td>\n",
       "    </tr>\n",
       "    <tr>\n",
       "      <th>3</th>\n",
       "      <td>cintas names bancroft park's self-cleaning res...</td>\n",
       "      <td>not relevant</td>\n",
       "      <td>2020-11-19</td>\n",
       "    </tr>\n",
       "    <tr>\n",
       "      <th>4</th>\n",
       "      <td>cintas corporation announces fiscal 2021 secon...</td>\n",
       "      <td>not relevant</td>\n",
       "      <td>2020-12-22</td>\n",
       "    </tr>\n",
       "  </tbody>\n",
       "</table>\n",
       "</div>"
      ],
      "text/plain": [
       "                                                text         label       date\n",
       "0  cintas earns 2021 military friendly and milita...      decrease 2020-11-09\n",
       "1  cintas announces evs technician winners for na...  not relevant 2020-09-29\n",
       "2  cintas celebrates 2020 custodian of the year w...  not relevant 2020-09-30\n",
       "3  cintas names bancroft park's self-cleaning res...  not relevant 2020-11-19\n",
       "4  cintas corporation announces fiscal 2021 secon...  not relevant 2020-12-22"
      ]
     },
     "execution_count": 175,
     "metadata": {},
     "output_type": "execute_result"
    }
   ],
   "source": [
    "data_df.head()"
   ]
  },
  {
   "cell_type": "code",
   "execution_count": 176,
   "metadata": {
    "pycharm": {
     "name": "#%%\n"
    }
   },
   "outputs": [
    {
     "data": {
      "image/png": "[encoded data removed]",
      "text/plain": [
       "<Figure size 432x288 with 1 Axes>"
      ]
     },
     "metadata": {
      "needs_background": "light"
     },
     "output_type": "display_data"
    }
   ],
   "source": [
    "plt.hist(data_df['date'])\n",
    "plt.show()"
   ]
  },
  {
   "cell_type": "code",
   "execution_count": 186,
   "metadata": {},
   "outputs": [
    {
     "data": {
      "image/png": "[encoded data removed]",
      "text/plain": [
       "<Figure size 360x360 with 1 Axes>"
      ]
     },
     "metadata": {
      "needs_background": "light"
     },
     "output_type": "display_data"
    }
   ],
   "source": [
    "sns.displot(data_df['date'], bins=12)\n",
    "plt.ylabel('Article Count')\n",
    "plt.xlabel('Release Date')\n",
    "plt.savefig('plots/dates_dist.png')\n",
    "plt.show()"
   ]
  },
  {
   "cell_type": "code",
   "execution_count": 187,
   "metadata": {
    "pycharm": {
     "name": "#%%\n"
    }
   },
   "outputs": [
    {
     "data": {
      "text/plain": [
       "<function matplotlib.pyplot.show(close=None, block=None)>"
      ]
     },
     "execution_count": 187,
     "metadata": {},
     "output_type": "execute_result"
    },
    {
     "data": {
      "image/png": "[encoded data removed]",
      "text/plain": [
       "<Figure size 432x288 with 1 Axes>"
      ]
     },
     "metadata": {
      "needs_background": "light"
     },
     "output_type": "display_data"
    }
   ],
   "source": [
    "plt.hist(np.vectorize(len)(data_df['text'].apply(lambda x: x.split()).values), bins=100)\n",
    "plt.show"
   ]
  },
  {
   "cell_type": "code",
   "execution_count": 193,
   "metadata": {
    "pycharm": {
     "name": "#%%\n"
    },
    "scrolled": false
   },
   "outputs": [
    {
     "data": {
      "image/png": "[encoded data removed]",
      "text/plain": [
       "<Figure size 360x360 with 1 Axes>"
      ]
     },
     "metadata": {
      "needs_background": "light"
     },
     "output_type": "display_data"
    }
   ],
   "source": [
    "sns.displot(np.vectorize(len)(data_df['text'].apply(lambda x: x.split()).values), bins=30)\n",
    "plt.xlabel('Number of Words')\n",
    "plt.ylabel('Article count')\n",
    "plt.savefig('plots/text_length_dist.png')\n",
    "plt.show()"
   ]
  },
  {
   "cell_type": "code",
   "execution_count": 245,
   "metadata": {},
   "outputs": [
    {
     "data": {
      "text/html": [
       "<div>\n",
       "<style scoped>\n",
       "    .dataframe tbody tr th:only-of-type {\n",
       "        vertical-align: middle;\n",
       "    }\n",
       "\n",
       "    .dataframe tbody tr th {\n",
       "        vertical-align: top;\n",
       "    }\n",
       "\n",
       "    .dataframe thead th {\n",
       "        text-align: right;\n",
       "    }\n",
       "</style>\n",
       "<table border=\"1\" class=\"dataframe\">\n",
       "  <thead>\n",
       "    <tr style=\"text-align: right;\">\n",
       "      <th></th>\n",
       "      <th>label</th>\n",
       "      <th>text</th>\n",
       "      <th>date</th>\n",
       "    </tr>\n",
       "  </thead>\n",
       "  <tbody>\n",
       "    <tr>\n",
       "      <th>0</th>\n",
       "      <td>decrease</td>\n",
       "      <td>425</td>\n",
       "      <td>425</td>\n",
       "    </tr>\n",
       "    <tr>\n",
       "      <th>1</th>\n",
       "      <td>increase</td>\n",
       "      <td>529</td>\n",
       "      <td>529</td>\n",
       "    </tr>\n",
       "    <tr>\n",
       "      <th>2</th>\n",
       "      <td>not relevant</td>\n",
       "      <td>4000</td>\n",
       "      <td>4000</td>\n",
       "    </tr>\n",
       "  </tbody>\n",
       "</table>\n",
       "</div>"
      ],
      "text/plain": [
       "          label  text  date\n",
       "0      decrease   425   425\n",
       "1      increase   529   529\n",
       "2  not relevant  4000  4000"
      ]
     },
     "execution_count": 245,
     "metadata": {},
     "output_type": "execute_result"
    }
   ],
   "source": [
    "grouped = data_df.groupby('label').count().reset_index()\n",
    "grouped"
   ]
  },
  {
   "cell_type": "code",
   "execution_count": 261,
   "metadata": {},
   "outputs": [
    {
     "data": {
      "image/png": "[encoded data removed]",
      "text/plain": [
       "<Figure size 720x432 with 1 Axes>"
      ]
     },
     "metadata": {},
     "output_type": "display_data"
    }
   ],
   "source": [
    "#Seaborn Horizontal barplot\n",
    "sns.set_style(\"whitegrid\")\n",
    "bar,ax = plt.subplots(figsize=(10,6))\n",
    "ax = sns.barplot(x='text', y='label', data=grouped, palette=\"muted\",orient='h' )\n",
    "\n",
    "ax.set_xlabel (\"Count\")\n",
    "ax.set_ylabel (\"Label\")\n",
    "plt.show()\n",
    "bar.savefig(\"plots/label_dist.png\");"
   ]
  },
  {
   "cell_type": "markdown",
   "metadata": {
    "pycharm": {
     "name": "#%%\n"
    }
   },
   "source": [
    "## Looking at the ARIMA and LSTM data"
   ]
  },
  {
   "cell_type": "code",
   "execution_count": 33,
   "metadata": {},
   "outputs": [],
   "source": [
    "def to_float(string: str):\n",
    "    if type(string)==str:\n",
    "        string = string.strip('[').strip(']')\n",
    "    return float(string)"
   ]
  },
  {
   "cell_type": "code",
   "execution_count": 54,
   "metadata": {},
   "outputs": [],
   "source": [
    "arima_data = pd.read_csv('data/tabular_data/prediction_arima_withdate.csv')\n",
    "arima_data['Date'] = arima_data['Date'].apply(lambda x: dateutil.parser.parse(x))\n",
    "arima_data.set_index('Date', inplace=True)\n",
    "for col in arima_data.columns:\n",
    "    arima_data[col] = arima_data[col].apply(lambda x: to_float(x))\n",
    "lstm_data = pd.read_csv('data/tabular_data/lstm_pred.csv')\n",
    "lstm_data['Date'] = lstm_data['Date'].apply(lambda x: dateutil.parser.parse(x))\n",
    "lstm_data.set_index('Date', inplace=True)"
   ]
  },
  {
   "cell_type": "code",
   "execution_count": 55,
   "metadata": {},
   "outputs": [
    {
     "data": {
      "text/html": [
       "<div>\n",
       "<style scoped>\n",
       "    .dataframe tbody tr th:only-of-type {\n",
       "        vertical-align: middle;\n",
       "    }\n",
       "\n",
       "    .dataframe tbody tr th {\n",
       "        vertical-align: top;\n",
       "    }\n",
       "\n",
       "    .dataframe thead th {\n",
       "        text-align: right;\n",
       "    }\n",
       "</style>\n",
       "<table border=\"1\" class=\"dataframe\">\n",
       "  <thead>\n",
       "    <tr style=\"text-align: right;\">\n",
       "      <th></th>\n",
       "      <th>A</th>\n",
       "      <th>AAL</th>\n",
       "      <th>AAP</th>\n",
       "      <th>AAPL</th>\n",
       "      <th>ABBV</th>\n",
       "      <th>ABC</th>\n",
       "      <th>ABMD</th>\n",
       "      <th>ABT</th>\n",
       "      <th>ACN</th>\n",
       "      <th>ADBE</th>\n",
       "      <th>...</th>\n",
       "      <th>XLNX</th>\n",
       "      <th>XOM</th>\n",
       "      <th>XRAY</th>\n",
       "      <th>XRX</th>\n",
       "      <th>XYL</th>\n",
       "      <th>YUM</th>\n",
       "      <th>ZBH</th>\n",
       "      <th>ZBRA</th>\n",
       "      <th>ZION</th>\n",
       "      <th>ZTS</th>\n",
       "    </tr>\n",
       "    <tr>\n",
       "      <th>Date</th>\n",
       "      <th></th>\n",
       "      <th></th>\n",
       "      <th></th>\n",
       "      <th></th>\n",
       "      <th></th>\n",
       "      <th></th>\n",
       "      <th></th>\n",
       "      <th></th>\n",
       "      <th></th>\n",
       "      <th></th>\n",
       "      <th></th>\n",
       "      <th></th>\n",
       "      <th></th>\n",
       "      <th></th>\n",
       "      <th></th>\n",
       "      <th></th>\n",
       "      <th></th>\n",
       "      <th></th>\n",
       "      <th></th>\n",
       "      <th></th>\n",
       "      <th></th>\n",
       "    </tr>\n",
       "  </thead>\n",
       "  <tbody>\n",
       "    <tr>\n",
       "      <th>2020-10-01</th>\n",
       "      <td>-0.000467</td>\n",
       "      <td>0.001045</td>\n",
       "      <td>-0.005775</td>\n",
       "      <td>-0.000457</td>\n",
       "      <td>-0.000949</td>\n",
       "      <td>-0.002937</td>\n",
       "      <td>0.002628</td>\n",
       "      <td>-0.005797</td>\n",
       "      <td>0.000515</td>\n",
       "      <td>0.002799</td>\n",
       "      <td>...</td>\n",
       "      <td>0.004087</td>\n",
       "      <td>-0.003514</td>\n",
       "      <td>-0.002804</td>\n",
       "      <td>-0.003742</td>\n",
       "      <td>0.003229</td>\n",
       "      <td>0.003044</td>\n",
       "      <td>NaN</td>\n",
       "      <td>0.008892</td>\n",
       "      <td>-0.011674</td>\n",
       "      <td>-0.002351</td>\n",
       "    </tr>\n",
       "    <tr>\n",
       "      <th>2020-10-02</th>\n",
       "      <td>0.000798</td>\n",
       "      <td>0.002571</td>\n",
       "      <td>0.002972</td>\n",
       "      <td>0.001425</td>\n",
       "      <td>0.002487</td>\n",
       "      <td>0.008576</td>\n",
       "      <td>0.005977</td>\n",
       "      <td>0.005118</td>\n",
       "      <td>0.000418</td>\n",
       "      <td>-0.004923</td>\n",
       "      <td>...</td>\n",
       "      <td>-0.008521</td>\n",
       "      <td>0.001452</td>\n",
       "      <td>0.002567</td>\n",
       "      <td>0.000535</td>\n",
       "      <td>0.003431</td>\n",
       "      <td>0.001046</td>\n",
       "      <td>NaN</td>\n",
       "      <td>-0.008651</td>\n",
       "      <td>-0.006812</td>\n",
       "      <td>0.003833</td>\n",
       "    </tr>\n",
       "    <tr>\n",
       "      <th>2020-10-05</th>\n",
       "      <td>0.004897</td>\n",
       "      <td>0.003448</td>\n",
       "      <td>0.001306</td>\n",
       "      <td>0.012548</td>\n",
       "      <td>0.001638</td>\n",
       "      <td>-0.000697</td>\n",
       "      <td>0.006376</td>\n",
       "      <td>0.002525</td>\n",
       "      <td>0.005720</td>\n",
       "      <td>0.023602</td>\n",
       "      <td>...</td>\n",
       "      <td>0.017500</td>\n",
       "      <td>-0.002871</td>\n",
       "      <td>-0.001480</td>\n",
       "      <td>-0.005741</td>\n",
       "      <td>-0.006484</td>\n",
       "      <td>-0.003212</td>\n",
       "      <td>NaN</td>\n",
       "      <td>0.005287</td>\n",
       "      <td>-0.002960</td>\n",
       "      <td>0.002550</td>\n",
       "    </tr>\n",
       "    <tr>\n",
       "      <th>2020-10-06</th>\n",
       "      <td>-0.007757</td>\n",
       "      <td>-0.001476</td>\n",
       "      <td>-0.000092</td>\n",
       "      <td>-0.004952</td>\n",
       "      <td>-0.004982</td>\n",
       "      <td>-0.000617</td>\n",
       "      <td>0.003250</td>\n",
       "      <td>-0.006410</td>\n",
       "      <td>-0.002637</td>\n",
       "      <td>-0.003778</td>\n",
       "      <td>...</td>\n",
       "      <td>-0.010576</td>\n",
       "      <td>-0.006604</td>\n",
       "      <td>-0.000384</td>\n",
       "      <td>-0.003599</td>\n",
       "      <td>0.005156</td>\n",
       "      <td>0.003562</td>\n",
       "      <td>NaN</td>\n",
       "      <td>-0.005182</td>\n",
       "      <td>0.003351</td>\n",
       "      <td>0.001978</td>\n",
       "    </tr>\n",
       "    <tr>\n",
       "      <th>2020-10-07</th>\n",
       "      <td>0.005789</td>\n",
       "      <td>-0.010353</td>\n",
       "      <td>-0.000342</td>\n",
       "      <td>0.011733</td>\n",
       "      <td>0.006782</td>\n",
       "      <td>0.004897</td>\n",
       "      <td>0.002135</td>\n",
       "      <td>0.009166</td>\n",
       "      <td>0.005879</td>\n",
       "      <td>0.011089</td>\n",
       "      <td>...</td>\n",
       "      <td>0.003339</td>\n",
       "      <td>-0.001932</td>\n",
       "      <td>0.003242</td>\n",
       "      <td>0.001542</td>\n",
       "      <td>-0.001411</td>\n",
       "      <td>-0.000989</td>\n",
       "      <td>NaN</td>\n",
       "      <td>0.000187</td>\n",
       "      <td>0.006818</td>\n",
       "      <td>0.004590</td>\n",
       "    </tr>\n",
       "  </tbody>\n",
       "</table>\n",
       "<p>5 rows × 501 columns</p>\n",
       "</div>"
      ],
      "text/plain": [
       "                   A       AAL       AAP      AAPL      ABBV       ABC  \\\n",
       "Date                                                                     \n",
       "2020-10-01 -0.000467  0.001045 -0.005775 -0.000457 -0.000949 -0.002937   \n",
       "2020-10-02  0.000798  0.002571  0.002972  0.001425  0.002487  0.008576   \n",
       "2020-10-05  0.004897  0.003448  0.001306  0.012548  0.001638 -0.000697   \n",
       "2020-10-06 -0.007757 -0.001476 -0.000092 -0.004952 -0.004982 -0.000617   \n",
       "2020-10-07  0.005789 -0.010353 -0.000342  0.011733  0.006782  0.004897   \n",
       "\n",
       "                ABMD       ABT       ACN      ADBE  ...      XLNX       XOM  \\\n",
       "Date                                                ...                       \n",
       "2020-10-01  0.002628 -0.005797  0.000515  0.002799  ...  0.004087 -0.003514   \n",
       "2020-10-02  0.005977  0.005118  0.000418 -0.004923  ... -0.008521  0.001452   \n",
       "2020-10-05  0.006376  0.002525  0.005720  0.023602  ...  0.017500 -0.002871   \n",
       "2020-10-06  0.003250 -0.006410 -0.002637 -0.003778  ... -0.010576 -0.006604   \n",
       "2020-10-07  0.002135  0.009166  0.005879  0.011089  ...  0.003339 -0.001932   \n",
       "\n",
       "                XRAY       XRX       XYL       YUM  ZBH      ZBRA      ZION  \\\n",
       "Date                                                                          \n",
       "2020-10-01 -0.002804 -0.003742  0.003229  0.003044  NaN  0.008892 -0.011674   \n",
       "2020-10-02  0.002567  0.000535  0.003431  0.001046  NaN -0.008651 -0.006812   \n",
       "2020-10-05 -0.001480 -0.005741 -0.006484 -0.003212  NaN  0.005287 -0.002960   \n",
       "2020-10-06 -0.000384 -0.003599  0.005156  0.003562  NaN -0.005182  0.003351   \n",
       "2020-10-07  0.003242  0.001542 -0.001411 -0.000989  NaN  0.000187  0.006818   \n",
       "\n",
       "                 ZTS  \n",
       "Date                  \n",
       "2020-10-01 -0.002351  \n",
       "2020-10-02  0.003833  \n",
       "2020-10-05  0.002550  \n",
       "2020-10-06  0.001978  \n",
       "2020-10-07  0.004590  \n",
       "\n",
       "[5 rows x 501 columns]"
      ]
     },
     "execution_count": 55,
     "metadata": {},
     "output_type": "execute_result"
    }
   ],
   "source": [
    "arima_data.head()"
   ]
  },
  {
   "cell_type": "code",
   "execution_count": 56,
   "metadata": {},
   "outputs": [
    {
     "data": {
      "text/html": [
       "<div>\n",
       "<style scoped>\n",
       "    .dataframe tbody tr th:only-of-type {\n",
       "        vertical-align: middle;\n",
       "    }\n",
       "\n",
       "    .dataframe tbody tr th {\n",
       "        vertical-align: top;\n",
       "    }\n",
       "\n",
       "    .dataframe thead th {\n",
       "        text-align: right;\n",
       "    }\n",
       "</style>\n",
       "<table border=\"1\" class=\"dataframe\">\n",
       "  <thead>\n",
       "    <tr style=\"text-align: right;\">\n",
       "      <th></th>\n",
       "      <th>A</th>\n",
       "      <th>AAL</th>\n",
       "      <th>AAP</th>\n",
       "      <th>AAPL</th>\n",
       "      <th>ABBV</th>\n",
       "      <th>ABC</th>\n",
       "      <th>ABMD</th>\n",
       "      <th>ABT</th>\n",
       "      <th>ACN</th>\n",
       "      <th>ADBE</th>\n",
       "      <th>...</th>\n",
       "      <th>XLNX</th>\n",
       "      <th>XOM</th>\n",
       "      <th>XRAY</th>\n",
       "      <th>XRX</th>\n",
       "      <th>XYL</th>\n",
       "      <th>YUM</th>\n",
       "      <th>ZBH</th>\n",
       "      <th>ZBRA</th>\n",
       "      <th>ZION</th>\n",
       "      <th>ZTS</th>\n",
       "    </tr>\n",
       "    <tr>\n",
       "      <th>Date</th>\n",
       "      <th></th>\n",
       "      <th></th>\n",
       "      <th></th>\n",
       "      <th></th>\n",
       "      <th></th>\n",
       "      <th></th>\n",
       "      <th></th>\n",
       "      <th></th>\n",
       "      <th></th>\n",
       "      <th></th>\n",
       "      <th></th>\n",
       "      <th></th>\n",
       "      <th></th>\n",
       "      <th></th>\n",
       "      <th></th>\n",
       "      <th></th>\n",
       "      <th></th>\n",
       "      <th></th>\n",
       "      <th></th>\n",
       "      <th></th>\n",
       "      <th></th>\n",
       "    </tr>\n",
       "  </thead>\n",
       "  <tbody>\n",
       "    <tr>\n",
       "      <th>2020-10-08</th>\n",
       "      <td>0.044484</td>\n",
       "      <td>-0.024163</td>\n",
       "      <td>-0.011208</td>\n",
       "      <td>-0.007579</td>\n",
       "      <td>-0.006428</td>\n",
       "      <td>-0.021936</td>\n",
       "      <td>-0.032452</td>\n",
       "      <td>-0.042213</td>\n",
       "      <td>-0.015041</td>\n",
       "      <td>-0.017350</td>\n",
       "      <td>...</td>\n",
       "      <td>-0.009521</td>\n",
       "      <td>-0.022762</td>\n",
       "      <td>-0.003336</td>\n",
       "      <td>0.023142</td>\n",
       "      <td>-0.004740</td>\n",
       "      <td>-0.009547</td>\n",
       "      <td>-0.000442</td>\n",
       "      <td>0.000020</td>\n",
       "      <td>0.001468</td>\n",
       "      <td>0.000158</td>\n",
       "    </tr>\n",
       "    <tr>\n",
       "      <th>2020-10-09</th>\n",
       "      <td>0.008696</td>\n",
       "      <td>-0.039558</td>\n",
       "      <td>-0.061532</td>\n",
       "      <td>0.005215</td>\n",
       "      <td>0.004495</td>\n",
       "      <td>0.009758</td>\n",
       "      <td>0.010226</td>\n",
       "      <td>0.003644</td>\n",
       "      <td>0.003570</td>\n",
       "      <td>-0.005743</td>\n",
       "      <td>...</td>\n",
       "      <td>-0.010558</td>\n",
       "      <td>-0.007619</td>\n",
       "      <td>-0.007586</td>\n",
       "      <td>0.000244</td>\n",
       "      <td>-0.005411</td>\n",
       "      <td>-0.002303</td>\n",
       "      <td>0.000318</td>\n",
       "      <td>0.000384</td>\n",
       "      <td>0.000276</td>\n",
       "      <td>-0.001689</td>\n",
       "    </tr>\n",
       "    <tr>\n",
       "      <th>2020-10-12</th>\n",
       "      <td>0.016926</td>\n",
       "      <td>0.058434</td>\n",
       "      <td>0.007241</td>\n",
       "      <td>0.007438</td>\n",
       "      <td>0.001088</td>\n",
       "      <td>0.033377</td>\n",
       "      <td>0.043008</td>\n",
       "      <td>0.024844</td>\n",
       "      <td>0.007527</td>\n",
       "      <td>0.016102</td>\n",
       "      <td>...</td>\n",
       "      <td>0.006034</td>\n",
       "      <td>0.014522</td>\n",
       "      <td>0.025416</td>\n",
       "      <td>0.048479</td>\n",
       "      <td>0.023668</td>\n",
       "      <td>0.017149</td>\n",
       "      <td>0.045866</td>\n",
       "      <td>0.013904</td>\n",
       "      <td>0.044396</td>\n",
       "      <td>0.013820</td>\n",
       "    </tr>\n",
       "    <tr>\n",
       "      <th>2020-10-13</th>\n",
       "      <td>0.000088</td>\n",
       "      <td>-0.048078</td>\n",
       "      <td>-0.017773</td>\n",
       "      <td>-0.016161</td>\n",
       "      <td>-0.007820</td>\n",
       "      <td>-0.012785</td>\n",
       "      <td>0.008188</td>\n",
       "      <td>-0.021457</td>\n",
       "      <td>-0.006942</td>\n",
       "      <td>-0.025947</td>\n",
       "      <td>...</td>\n",
       "      <td>-0.010322</td>\n",
       "      <td>-0.016507</td>\n",
       "      <td>-0.001241</td>\n",
       "      <td>-0.004664</td>\n",
       "      <td>-0.004852</td>\n",
       "      <td>0.009293</td>\n",
       "      <td>0.002147</td>\n",
       "      <td>-0.004090</td>\n",
       "      <td>-0.011118</td>\n",
       "      <td>-0.003188</td>\n",
       "    </tr>\n",
       "    <tr>\n",
       "      <th>2020-10-14</th>\n",
       "      <td>0.004007</td>\n",
       "      <td>0.008282</td>\n",
       "      <td>0.010764</td>\n",
       "      <td>-0.004441</td>\n",
       "      <td>0.006890</td>\n",
       "      <td>0.020084</td>\n",
       "      <td>0.023160</td>\n",
       "      <td>0.025942</td>\n",
       "      <td>0.046504</td>\n",
       "      <td>0.022754</td>\n",
       "      <td>...</td>\n",
       "      <td>-0.010469</td>\n",
       "      <td>-0.004577</td>\n",
       "      <td>0.007588</td>\n",
       "      <td>0.015359</td>\n",
       "      <td>0.015192</td>\n",
       "      <td>0.009761</td>\n",
       "      <td>0.018612</td>\n",
       "      <td>0.014536</td>\n",
       "      <td>0.011244</td>\n",
       "      <td>-0.001473</td>\n",
       "    </tr>\n",
       "  </tbody>\n",
       "</table>\n",
       "<p>5 rows × 501 columns</p>\n",
       "</div>"
      ],
      "text/plain": [
       "                   A       AAL       AAP      AAPL      ABBV       ABC  \\\n",
       "Date                                                                     \n",
       "2020-10-08  0.044484 -0.024163 -0.011208 -0.007579 -0.006428 -0.021936   \n",
       "2020-10-09  0.008696 -0.039558 -0.061532  0.005215  0.004495  0.009758   \n",
       "2020-10-12  0.016926  0.058434  0.007241  0.007438  0.001088  0.033377   \n",
       "2020-10-13  0.000088 -0.048078 -0.017773 -0.016161 -0.007820 -0.012785   \n",
       "2020-10-14  0.004007  0.008282  0.010764 -0.004441  0.006890  0.020084   \n",
       "\n",
       "                ABMD       ABT       ACN      ADBE  ...      XLNX       XOM  \\\n",
       "Date                                                ...                       \n",
       "2020-10-08 -0.032452 -0.042213 -0.015041 -0.017350  ... -0.009521 -0.022762   \n",
       "2020-10-09  0.010226  0.003644  0.003570 -0.005743  ... -0.010558 -0.007619   \n",
       "2020-10-12  0.043008  0.024844  0.007527  0.016102  ...  0.006034  0.014522   \n",
       "2020-10-13  0.008188 -0.021457 -0.006942 -0.025947  ... -0.010322 -0.016507   \n",
       "2020-10-14  0.023160  0.025942  0.046504  0.022754  ... -0.010469 -0.004577   \n",
       "\n",
       "                XRAY       XRX       XYL       YUM       ZBH      ZBRA  \\\n",
       "Date                                                                     \n",
       "2020-10-08 -0.003336  0.023142 -0.004740 -0.009547 -0.000442  0.000020   \n",
       "2020-10-09 -0.007586  0.000244 -0.005411 -0.002303  0.000318  0.000384   \n",
       "2020-10-12  0.025416  0.048479  0.023668  0.017149  0.045866  0.013904   \n",
       "2020-10-13 -0.001241 -0.004664 -0.004852  0.009293  0.002147 -0.004090   \n",
       "2020-10-14  0.007588  0.015359  0.015192  0.009761  0.018612  0.014536   \n",
       "\n",
       "                ZION       ZTS  \n",
       "Date                            \n",
       "2020-10-08  0.001468  0.000158  \n",
       "2020-10-09  0.000276 -0.001689  \n",
       "2020-10-12  0.044396  0.013820  \n",
       "2020-10-13 -0.011118 -0.003188  \n",
       "2020-10-14  0.011244 -0.001473  \n",
       "\n",
       "[5 rows x 501 columns]"
      ]
     },
     "execution_count": 56,
     "metadata": {},
     "output_type": "execute_result"
    }
   ],
   "source": [
    "lstm_data.head()"
   ]
  },
  {
   "cell_type": "code",
   "execution_count": 100,
   "metadata": {},
   "outputs": [],
   "source": [
    "aapl_returns = yf.download('AAPL', start='2020-10-08', end='2021-01-01', progress=False)\n",
    "aapl_returns = aapl_returns['Adj Close'].diff(-1) / aapl_returns['Adj Close']"
   ]
  },
  {
   "cell_type": "code",
   "execution_count": 101,
   "metadata": {},
   "outputs": [
    {
     "data": {
      "image/png": "[encoded data removed]",
      "text/plain": [
       "<Figure size 432x288 with 1 Axes>"
      ]
     },
     "metadata": {
      "needs_background": "light"
     },
     "output_type": "display_data"
    }
   ],
   "source": [
    "import matplotlib.dates as mdates\n",
    "months = mdates.MonthLocator()\n",
    "days = mdates.WeekdayLocator()\n",
    "months_fmt = mdates.DateFormatter('%M')\n",
    "plt.plot(arima_data.index, arima_data['AAPL'], label='ARIMA')\n",
    "plt.plot(lstm_data.index, lstm_data['AAPL'], label='LSTM')\n",
    "plt.plot(aapl_returns, label='true value')\n",
    "plt.xlabel('Date')\n",
    "plt.ylabel('Daily return prediction')\n",
    "plt.legend()\n",
    "plt.show()\n",
    "\n",
    "plt.show()"
   ]
  }
 ],
 "metadata": {
  "kernelspec": {
   "display_name": "Python 3",
   "language": "python",
   "name": "python3"
  },
  "language_info": {
   "codemirror_mode": {
    "name": "ipython",
    "version": 3
   },
   "file_extension": ".py",
   "mimetype": "text/x-python",
   "name": "python",
   "nbconvert_exporter": "python",
   "pygments_lexer": "ipython3",
   "version": "3.8.5"
  }
 },
 "nbformat": 4,
 "nbformat_minor": 4
}